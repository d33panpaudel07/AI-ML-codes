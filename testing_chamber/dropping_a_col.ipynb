{
 "cells": [
  {
   "cell_type": "code",
   "execution_count": 7,
   "metadata": {},
   "outputs": [
    {
     "name": "stdout",
     "output_type": "stream",
     "text": [
      "      Col1  Col2  Col3\n",
      "row1     1     2     3\n",
      "row2     1     2     3\n",
      "row3     1     2     3\n",
      "row4     1     2     3\n"
     ]
    }
   ],
   "source": [
    "# creating a dummy dataframe\n",
    "import pandas as pd\n",
    "data = {\n",
    "    'Col1':[1,1,1,1],\n",
    "    'Col2':[2,2,2,2],\n",
    "    'Col3':[3,3,3,3],\n",
    "}\n",
    "# print(data)\n",
    "df = pd.DataFrame(data, index=['row1','row2','row3','row4'])\n",
    "print(df)"
   ]
  },
  {
   "cell_type": "code",
   "execution_count": 5,
   "metadata": {},
   "outputs": [
    {
     "name": "stdout",
     "output_type": "stream",
     "text": [
      "      Col3\n",
      "row1     3\n",
      "row2     3\n",
      "row3     3\n",
      "row4     3\n"
     ]
    }
   ],
   "source": [
    "# dropping a specific column\n",
    "# df_dropped_col = df.drop(columns='Col2')\n",
    "df_dropped_col = df.drop(columns=['Col1','Col2'])\n",
    "print(df_dropped_col)"
   ]
  }
 ],
 "metadata": {
  "kernelspec": {
   "display_name": "base",
   "language": "python",
   "name": "python3"
  },
  "language_info": {
   "codemirror_mode": {
    "name": "ipython",
    "version": 3
   },
   "file_extension": ".py",
   "mimetype": "text/x-python",
   "name": "python",
   "nbconvert_exporter": "python",
   "pygments_lexer": "ipython3",
   "version": "3.12.7"
  }
 },
 "nbformat": 4,
 "nbformat_minor": 2
}
