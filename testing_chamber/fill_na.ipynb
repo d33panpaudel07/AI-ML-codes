{
 "cells": [
  {
   "cell_type": "code",
   "execution_count": 1,
   "metadata": {},
   "outputs": [
    {
     "name": "stdout",
     "output_type": "stream",
     "text": [
      "      col1  col2  col3\n",
      "row1   1.0   NaN   3.0\n",
      "row2   1.0   2.0   NaN\n",
      "row3   NaN   2.0   NaN\n",
      "row4   1.0   NaN   NaN\n"
     ]
    }
   ],
   "source": [
    "import pandas as pd\n",
    "import numpy as np\n",
    "data = {\n",
    "    'col1':[1, 1, np.nan, 1],\n",
    "    'col2':[np.nan, 2, 2, np.nan],\n",
    "    'col3':[3, np.nan, np.nan, np.nan],\n",
    "}\n",
    "\n",
    "df = pd.DataFrame(data, index=['row1','row2','row3','row4'])\n",
    "print(df)"
   ]
  },
  {
   "cell_type": "code",
   "execution_count": null,
   "metadata": {},
   "outputs": [
    {
     "name": "stdout",
     "output_type": "stream",
     "text": [
      "      col1  col2  col3\n",
      "row1     1   200     3\n",
      "row2     1     2   300\n",
      "row3   100     2   300\n",
      "row4     1   200   300\n"
     ]
    }
   ],
   "source": [
    "# filling NaN values\n",
    "\n",
    "# filling with 0\n",
    "# print(df.fillna(0))\n",
    "\n",
    "# filling with column's mean value\n",
    "# need numeric only to consider only numeric values not string \n",
    "# print(df.fillna(df.mean(numeric_only=True)))\n",
    "\n",
    "# filling with last valid value \n",
    "# print(df.fillna(method='ffill'))\n",
    "# the row in top having NaN will encounter problems using this way\n",
    "\n",
    "# filling with next valid value\n",
    "# print(df.fillna(method=\"bfill\"))\n",
    "# the row in bottom and continuous row above it will have NaN values with this\n",
    "\n",
    "# filling values with one value as input per column\n",
    "# can convert the float values using method .astype(int) in the dataframe\n",
    "# print(df.fillna({'col1':100, 'col2':200, 'col3':300}).astype(int))\n",
    "print(df.fillna({'col1':100, 'col2':200, 'col3':300}))"
   ]
  }
 ],
 "metadata": {
  "kernelspec": {
   "display_name": "base",
   "language": "python",
   "name": "python3"
  },
  "language_info": {
   "codemirror_mode": {
    "name": "ipython",
    "version": 3
   },
   "file_extension": ".py",
   "mimetype": "text/x-python",
   "name": "python",
   "nbconvert_exporter": "python",
   "pygments_lexer": "ipython3",
   "version": "3.12.7"
  }
 },
 "nbformat": 4,
 "nbformat_minor": 2
}
