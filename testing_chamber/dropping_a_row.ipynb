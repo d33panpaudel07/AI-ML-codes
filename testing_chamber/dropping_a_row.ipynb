{
 "cells": [
  {
   "cell_type": "code",
   "execution_count": 1,
   "metadata": {},
   "outputs": [
    {
     "name": "stdout",
     "output_type": "stream",
     "text": [
      "   Col1  Col2  Col3\n",
      "0     1     2     3\n",
      "1     1     2     3\n",
      "2     1     2     3\n",
      "3     1     2     3\n"
     ]
    }
   ],
   "source": [
    "import pandas as pd\n",
    "\n",
    "data = {\n",
    "    'Col1':[1,1,1,1],\n",
    "    'Col2':[2,2,2,2],\n",
    "    'Col3':[3,3,3,3],\n",
    "}\n",
    "\n",
    "test_df = pd.DataFrame(data)\n",
    "# test_df = pd.DataFrame(data, index=['row1','row2','row3','row4'])\n",
    "print(test_df)\n"
   ]
  },
  {
   "cell_type": "code",
   "execution_count": 9,
   "metadata": {},
   "outputs": [
    {
     "name": "stdout",
     "output_type": "stream",
     "text": [
      "   A  B   C\n",
      "0  1  5   9\n",
      "1  2  6  10\n",
      "3  4  8  12\n"
     ]
    }
   ],
   "source": [
    "df_drpped_row = test_df.drop(2)\n",
    "# df_drpped_row = test_df.drop(index='row2')\n",
    "print(df_drpped_row)"
   ]
  }
 ],
 "metadata": {
  "kernelspec": {
   "display_name": "base",
   "language": "python",
   "name": "python3"
  },
  "language_info": {
   "codemirror_mode": {
    "name": "ipython",
    "version": 3
   },
   "file_extension": ".py",
   "mimetype": "text/x-python",
   "name": "python",
   "nbconvert_exporter": "python",
   "pygments_lexer": "ipython3",
   "version": "3.12.7"
  }
 },
 "nbformat": 4,
 "nbformat_minor": 2
}
