{
  "cells": [
    {
      "cell_type": "markdown",
      "metadata": {
        "colab_type": "text",
        "id": "view-in-github"
      },
      "source": [
        "<a href=\"https://colab.research.google.com/github/sulav063/Machine_Learning_Workshop/blob/main/Introduction_to_NumPy.ipynb\" target=\"_parent\"><img src=\"https://colab.research.google.com/assets/colab-badge.svg\" alt=\"Open In Colab\"/></a>"
      ]
    },
    {
      "cell_type": "markdown",
      "metadata": {
        "id": "-ydn_6FBrd5w"
      },
      "source": [
        "# Introduction to Numpy\n",
        "\n",
        "*   Creating single dimesnional arrays ✅\n",
        "*   Multi dimensional array ✅\n",
        "*   Randomly generated arrays ✅\n",
        "*   Element wise opetations ✅\n",
        "*   Summarizing operations ✅\n"
      ]
    },
    {
      "cell_type": "markdown",
      "metadata": {
        "id": "fWq-Bz_jxfHX"
      },
      "source": [
        "## Single Dimensional Array"
      ]
    },
    {
      "cell_type": "code",
      "execution_count": 1,
      "metadata": {
        "id": "8KWsOsawsQwa"
      },
      "outputs": [],
      "source": [
        "import numpy as np"
      ]
    },
    {
      "cell_type": "code",
      "execution_count": 2,
      "metadata": {
        "colab": {
          "base_uri": "https://localhost:8080/"
        },
        "id": "Nts96-2fsyUx",
        "outputId": "50f71a04-da84-40ce-efec-1d966de59820"
      },
      "outputs": [
        {
          "data": {
            "text/plain": [
              "array([0., 0., 0., 0., 0.])"
            ]
          },
          "execution_count": 2,
          "metadata": {},
          "output_type": "execute_result"
        }
      ],
      "source": [
        "# Create an array with all the elemests zeros\n",
        "np.zeros(5)"
      ]
    },
    {
      "cell_type": "code",
      "execution_count": 3,
      "metadata": {
        "colab": {
          "base_uri": "https://localhost:8080/"
        },
        "id": "J4xt5JwJtk2I",
        "outputId": "c389b49f-78dc-4a95-8fba-053a9c0d6ddd"
      },
      "outputs": [
        {
          "data": {
            "text/plain": [
              "array([1., 1., 1., 1., 1.])"
            ]
          },
          "execution_count": 3,
          "metadata": {},
          "output_type": "execute_result"
        }
      ],
      "source": [
        "#creating an array with all the  elememts one\n",
        "np.ones(5)"
      ]
    },
    {
      "cell_type": "code",
      "execution_count": 4,
      "metadata": {
        "colab": {
          "base_uri": "https://localhost:8080/"
        },
        "id": "9pnS0HrDtySJ",
        "outputId": "5f31424f-3920-49c4-fcad-f6c93953c99b"
      },
      "outputs": [
        {
          "data": {
            "text/plain": [
              "array([3, 3, 3, 3, 3, 3, 3, 3, 3, 3])"
            ]
          },
          "execution_count": 4,
          "metadata": {},
          "output_type": "execute_result"
        }
      ],
      "source": [
        "# create an array of size 10 with all elements 3\n",
        "np.full(10, 3)"
      ]
    },
    {
      "cell_type": "code",
      "execution_count": 5,
      "metadata": {
        "colab": {
          "base_uri": "https://localhost:8080/"
        },
        "id": "aoINg8vRvAMy",
        "outputId": "770e586a-061d-4ad8-97c8-7694a668f5e6"
      },
      "outputs": [
        {
          "data": {
            "text/plain": [
              "array([1, 2, 3, 5, 5])"
            ]
          },
          "execution_count": 5,
          "metadata": {},
          "output_type": "execute_result"
        }
      ],
      "source": [
        "np.array([1, 2, 3, 5,5])"
      ]
    },
    {
      "cell_type": "code",
      "execution_count": 6,
      "metadata": {
        "colab": {
          "base_uri": "https://localhost:8080/"
        },
        "id": "VW2kb-5Cv51_",
        "outputId": "a67e50bd-0757-4f8f-90f4-07cc5488f03b"
      },
      "outputs": [
        {
          "data": {
            "text/plain": [
              "array([3, 4, 5, 6, 7, 8, 9])"
            ]
          },
          "execution_count": 6,
          "metadata": {},
          "output_type": "execute_result"
        }
      ],
      "source": [
        "np.arange(3, 10)"
      ]
    },
    {
      "cell_type": "code",
      "execution_count": 7,
      "metadata": {
        "colab": {
          "base_uri": "https://localhost:8080/"
        },
        "id": "yXR_uT-kwDsr",
        "outputId": "d6488350-4a6a-4fb7-f0e6-b000b4f7336f"
      },
      "outputs": [
        {
          "data": {
            "text/plain": [
              "array([  0.,  20.,  40.,  60.,  80., 100.])"
            ]
          },
          "execution_count": 7,
          "metadata": {},
          "output_type": "execute_result"
        }
      ],
      "source": [
        "# create an array with evenly spaced numbers within a specified range\n",
        "np.linspace(0, 100, 6)"
      ]
    },
    {
      "cell_type": "code",
      "execution_count": null,
      "metadata": {
        "id": "8U0f6LX5wzcy"
      },
      "outputs": [],
      "source": []
    },
    {
      "cell_type": "markdown",
      "metadata": {
        "id": "zW7S8pMAxtXv"
      },
      "source": [
        "## Multidimensional Arrays\n"
      ]
    },
    {
      "cell_type": "code",
      "execution_count": 8,
      "metadata": {
        "colab": {
          "base_uri": "https://localhost:8080/"
        },
        "id": "W4Ehu--tyE0O",
        "outputId": "633fc4ac-692f-4826-af98-1ff046ff8d6d"
      },
      "outputs": [
        {
          "data": {
            "text/plain": [
              "array([[0., 0., 0., 0., 0.],\n",
              "       [0., 0., 0., 0., 0.],\n",
              "       [0., 0., 0., 0., 0.]])"
            ]
          },
          "execution_count": 8,
          "metadata": {},
          "output_type": "execute_result"
        }
      ],
      "source": [
        "#matrix with al elements 0\n",
        "np.zeros([3, 5])"
      ]
    },
    {
      "cell_type": "code",
      "execution_count": 9,
      "metadata": {
        "colab": {
          "base_uri": "https://localhost:8080/"
        },
        "id": "MXhhx9aiyNo3",
        "outputId": "b91ee53b-8df2-42ce-b740-d10eb6bf6592"
      },
      "outputs": [
        {
          "data": {
            "text/plain": [
              "array([[1., 1., 1., 1.],\n",
              "       [1., 1., 1., 1.],\n",
              "       [1., 1., 1., 1.],\n",
              "       [1., 1., 1., 1.]])"
            ]
          },
          "execution_count": 9,
          "metadata": {},
          "output_type": "execute_result"
        }
      ],
      "source": [
        "# square matrix  with all elemets 1\n",
        "np.ones([4, 4])"
      ]
    },
    {
      "cell_type": "code",
      "execution_count": 10,
      "metadata": {
        "colab": {
          "base_uri": "https://localhost:8080/"
        },
        "id": "vBC3QwPPyUhH",
        "outputId": "8a892035-9b8d-4fcb-ac09-85c57a3b5071"
      },
      "outputs": [
        {
          "data": {
            "text/plain": [
              "array([[1, 2, 3],\n",
              "       [4, 5, 6],\n",
              "       [7, 8, 9]])"
            ]
          },
          "execution_count": 10,
          "metadata": {},
          "output_type": "execute_result"
        }
      ],
      "source": [
        "# square matrix 3 by 3 with elemnts starting from 1 to 9\n",
        "np.array([\n",
        "    [1, 2, 3],\n",
        "    [4, 5, 6],\n",
        "    [7, 8, 9]\n",
        "])"
      ]
    },
    {
      "cell_type": "code",
      "execution_count": 11,
      "metadata": {
        "colab": {
          "base_uri": "https://localhost:8080/"
        },
        "id": "IrUC5BGszr8x",
        "outputId": "520945a1-6331-4b31-a4de-a6f6d9aab558"
      },
      "outputs": [
        {
          "data": {
            "text/plain": [
              "array([[1, 2, 3],\n",
              "       [4, 5, 6],\n",
              "       [7, 8, 9]])"
            ]
          },
          "execution_count": 11,
          "metadata": {},
          "output_type": "execute_result"
        }
      ],
      "source": [
        "a= np.array([\n",
        "    [1, 2, 3],\n",
        "    [4, 5, 6],\n",
        "    [7, 8, 9]\n",
        "])\n",
        "a"
      ]
    },
    {
      "cell_type": "code",
      "execution_count": 12,
      "metadata": {
        "colab": {
          "base_uri": "https://localhost:8080/"
        },
        "id": "CbXk9TWN0DNE",
        "outputId": "557489c0-3d1f-4505-e6b4-cf38afe60623"
      },
      "outputs": [
        {
          "name": "stdout",
          "output_type": "stream",
          "text": [
            "[[ 1 20  3]\n",
            " [ 4  5  6]\n",
            " [ 7  8  9]]\n"
          ]
        }
      ],
      "source": [
        "# replacing a array\n",
        "a[0, 1]=20\n",
        "print(a)"
      ]
    },
    {
      "cell_type": "code",
      "execution_count": 13,
      "metadata": {
        "colab": {
          "base_uri": "https://localhost:8080/"
        },
        "id": "z_ROwXSS0O6a",
        "outputId": "5551724e-3047-4102-954b-27f9e29ce501"
      },
      "outputs": [
        {
          "data": {
            "text/plain": [
              "array([[ 1, 20,  3],\n",
              "       [ 4,  5,  6],\n",
              "       [ 1,  1,  1]])"
            ]
          },
          "execution_count": 13,
          "metadata": {},
          "output_type": "execute_result"
        }
      ],
      "source": [
        "# last row all 1\n",
        "a[2] = [1, 1, 1]\n",
        "a"
      ]
    },
    {
      "cell_type": "code",
      "execution_count": 14,
      "metadata": {
        "colab": {
          "base_uri": "https://localhost:8080/"
        },
        "id": "1lhsTinS081C",
        "outputId": "8a12da48-314b-4b24-cc3f-2e4c2fe333bb"
      },
      "outputs": [
        {
          "data": {
            "text/plain": [
              "array([[ 1, 20,  2],\n",
              "       [ 4,  5,  2],\n",
              "       [ 1,  1,  2]])"
            ]
          },
          "execution_count": 14,
          "metadata": {},
          "output_type": "execute_result"
        }
      ],
      "source": [
        "# last column all 2\n",
        "a[:, 2]= [2, 2, 2]\n",
        "a"
      ]
    },
    {
      "cell_type": "code",
      "execution_count": 15,
      "metadata": {
        "colab": {
          "base_uri": "https://localhost:8080/"
        },
        "id": "2ya8MT-01oYf",
        "outputId": "2e053cfe-8533-4573-f500-27826d59abe0"
      },
      "outputs": [
        {
          "data": {
            "text/plain": [
              "array([[10, 10, 10],\n",
              "       [10, 10, 10],\n",
              "       [10, 10, 10]])"
            ]
          },
          "execution_count": 15,
          "metadata": {},
          "output_type": "execute_result"
        }
      ],
      "source": [
        "# 3 by 3 matrix all elements 10\n",
        "np.full((3, 3), 10)"
      ]
    },
    {
      "cell_type": "markdown",
      "metadata": {
        "id": "eiEpkwsO2Oen"
      },
      "source": [
        "## Randomly Generated Array\n",
        "- Numpy can create arrays filled with random numbers\n",
        "- To ensure the reproducibility, you can set a seed using ```np.random.seed()```. It will generate the exact same random numbers for each executions.\n",
        "- If you remove or change the seed values, the sequence of random numbers will be changed."
      ]
    },
    {
      "cell_type": "code",
      "execution_count": 16,
      "metadata": {
        "colab": {
          "base_uri": "https://localhost:8080/"
        },
        "id": "dZgepGd92Uha",
        "outputId": "0869547c-ecf9-41e6-9a00-74197719753e"
      },
      "outputs": [
        {
          "data": {
            "text/plain": [
              "array([0.13929842, 0.54128597, 0.25391554, 0.10375365, 0.45862465])"
            ]
          },
          "execution_count": 16,
          "metadata": {},
          "output_type": "execute_result"
        }
      ],
      "source": [
        "np.random.rand(5)"
      ]
    },
    {
      "cell_type": "code",
      "execution_count": 17,
      "metadata": {
        "colab": {
          "base_uri": "https://localhost:8080/"
        },
        "id": "gVcxdw6n3ZH0",
        "outputId": "2c465df9-9449-43dd-ea76-dc2f7b9a256f"
      },
      "outputs": [
        {
          "data": {
            "text/plain": [
              "array([0.52191572, 0.69940637, 0.26986897, 0.67448187, 0.90807208])"
            ]
          },
          "execution_count": 17,
          "metadata": {},
          "output_type": "execute_result"
        }
      ],
      "source": [
        "np.random.seed(80)\n",
        "np.random.rand(5)"
      ]
    },
    {
      "cell_type": "code",
      "execution_count": 18,
      "metadata": {
        "colab": {
          "base_uri": "https://localhost:8080/"
        },
        "id": "EbIdDsPC4NjH",
        "outputId": "596dfc9a-a9fc-4558-f216-fc0f52be34b7"
      },
      "outputs": [
        {
          "data": {
            "text/plain": [
              "array([[-1.03446493,  0.66424004],\n",
              "       [-1.13937438, -0.89472205],\n",
              "       [-0.2207972 , -0.43007258],\n",
              "       [ 1.19972246,  0.1222967 ],\n",
              "       [ 0.54794733, -0.52658091]])"
            ]
          },
          "execution_count": 18,
          "metadata": {},
          "output_type": "execute_result"
        }
      ],
      "source": [
        "np.random.randn(5,2)"
      ]
    },
    {
      "cell_type": "code",
      "execution_count": 19,
      "metadata": {
        "colab": {
          "base_uri": "https://localhost:8080/"
        },
        "id": "L570lUAs5E_Z",
        "outputId": "56497bf0-b627-4dfe-e586-2f234a557a54"
      },
      "outputs": [
        {
          "data": {
            "text/plain": [
              "array([[ 7, 69],\n",
              "       [96, 56],\n",
              "       [15,  3],\n",
              "       [94, 39],\n",
              "       [51, 94]])"
            ]
          },
          "execution_count": 19,
          "metadata": {},
          "output_type": "execute_result"
        }
      ],
      "source": [
        "np.random.randint(low=0, high=100, size=(5, 2))"
      ]
    },
    {
      "cell_type": "markdown",
      "metadata": {
        "id": "3jCaf7mGF4vM"
      },
      "source": [
        "## Elements wise operation on entire arrays element by element"
      ]
    },
    {
      "cell_type": "code",
      "execution_count": 20,
      "metadata": {
        "colab": {
          "base_uri": "https://localhost:8080/"
        },
        "id": "rtjaOlPnGJuq",
        "outputId": "a173414a-d416-4e52-9fc3-e8d5b5c45eb2"
      },
      "outputs": [
        {
          "data": {
            "text/plain": [
              "array([0, 1, 2, 3, 4])"
            ]
          },
          "execution_count": 20,
          "metadata": {},
          "output_type": "execute_result"
        }
      ],
      "source": [
        "import numpy as np\n",
        "a = np.arange(5)\n",
        "a"
      ]
    },
    {
      "cell_type": "code",
      "execution_count": 21,
      "metadata": {
        "colab": {
          "base_uri": "https://localhost:8080/"
        },
        "id": "O4nebu3zHOTX",
        "outputId": "0b890916-6aab-4f75-80cb-f181c22eb9b3"
      },
      "outputs": [
        {
          "data": {
            "text/plain": [
              "array([12, 13, 14, 15, 16])"
            ]
          },
          "execution_count": 21,
          "metadata": {},
          "output_type": "execute_result"
        }
      ],
      "source": [
        "b=(10+(a+2))\n",
        "b"
      ]
    },
    {
      "cell_type": "code",
      "execution_count": 22,
      "metadata": {
        "colab": {
          "base_uri": "https://localhost:8080/"
        },
        "id": "9dVIXgupHiPO",
        "outputId": "4a6a4a9a-62c1-411f-c09b-89fa2772756e"
      },
      "outputs": [
        {
          "data": {
            "text/plain": [
              "array([0, 1, 2, 3, 4])"
            ]
          },
          "execution_count": 22,
          "metadata": {},
          "output_type": "execute_result"
        }
      ],
      "source": [
        "a"
      ]
    },
    {
      "cell_type": "code",
      "execution_count": 23,
      "metadata": {
        "colab": {
          "base_uri": "https://localhost:8080/"
        },
        "id": "rF0B5xv5Hmhm",
        "outputId": "2331254b-f93a-4ce3-88da-41fef56c1f4a"
      },
      "outputs": [
        {
          "data": {
            "text/plain": [
              "array([ 0,  5, 10, 15, 20])"
            ]
          },
          "execution_count": 23,
          "metadata": {},
          "output_type": "execute_result"
        }
      ],
      "source": [
        "a= a*5\n",
        "a"
      ]
    },
    {
      "cell_type": "code",
      "execution_count": 24,
      "metadata": {
        "colab": {
          "base_uri": "https://localhost:8080/"
        },
        "id": "XCZ3GWvoHphy",
        "outputId": "d17e3bd6-cd8e-4a7a-d09f-b322a0c6a54a"
      },
      "outputs": [
        {
          "data": {
            "text/plain": [
              "array([False,  True,  True,  True,  True])"
            ]
          },
          "execution_count": 24,
          "metadata": {},
          "output_type": "execute_result"
        }
      ],
      "source": [
        "a>=2"
      ]
    },
    {
      "cell_type": "code",
      "execution_count": 25,
      "metadata": {
        "colab": {
          "base_uri": "https://localhost:8080/"
        },
        "id": "epvBWf2XH3KA",
        "outputId": "5c664ae3-08ef-4ef0-9bff-0182c1c0e4ef"
      },
      "outputs": [
        {
          "data": {
            "text/plain": [
              "array([False, False, False, False,  True])"
            ]
          },
          "execution_count": 25,
          "metadata": {},
          "output_type": "execute_result"
        }
      ],
      "source": [
        "a>b"
      ]
    },
    {
      "cell_type": "code",
      "execution_count": 26,
      "metadata": {
        "colab": {
          "base_uri": "https://localhost:8080/"
        },
        "id": "VChEUaPAH5vl",
        "outputId": "f4ec4550-9967-4d47-b3d5-fd364e68bbcc"
      },
      "outputs": [
        {
          "data": {
            "text/plain": [
              "7.0710678118654755"
            ]
          },
          "execution_count": 26,
          "metadata": {},
          "output_type": "execute_result"
        }
      ],
      "source": [
        "# summarization of thr data\n",
        "# Numpy provides function for sumarizing array data\n",
        "a.std()"
      ]
    },
    {
      "cell_type": "code",
      "execution_count": 27,
      "metadata": {
        "colab": {
          "base_uri": "https://localhost:8080/"
        },
        "id": "b1KjRO8NJTET",
        "outputId": "55d45162-e48e-4b30-a244-ea63f7c9b9b6"
      },
      "outputs": [
        {
          "data": {
            "text/plain": [
              "0"
            ]
          },
          "execution_count": 27,
          "metadata": {},
          "output_type": "execute_result"
        }
      ],
      "source": [
        "a.min()"
      ]
    },
    {
      "cell_type": "code",
      "execution_count": 28,
      "metadata": {
        "colab": {
          "base_uri": "https://localhost:8080/"
        },
        "id": "t_UydZ-oJiXP",
        "outputId": "cec47e5f-17e3-4b0f-8b86-1d32792d87a5"
      },
      "outputs": [
        {
          "data": {
            "text/plain": [
              "20"
            ]
          },
          "execution_count": 28,
          "metadata": {},
          "output_type": "execute_result"
        }
      ],
      "source": [
        "a.max()"
      ]
    },
    {
      "cell_type": "code",
      "execution_count": 29,
      "metadata": {
        "colab": {
          "base_uri": "https://localhost:8080/"
        },
        "id": "CxL6gVI5JmEF",
        "outputId": "635c311b-a27c-4b72-c7f9-0cbdb80beed6"
      },
      "outputs": [
        {
          "data": {
            "text/plain": [
              "50"
            ]
          },
          "execution_count": 29,
          "metadata": {},
          "output_type": "execute_result"
        }
      ],
      "source": [
        "a.sum()"
      ]
    }
  ],
  "metadata": {
    "colab": {
      "authorship_tag": "ABX9TyP04E/QvX1PODFQHilq3NsP",
      "collapsed_sections": [
        "fWq-Bz_jxfHX",
        "zW7S8pMAxtXv"
      ],
      "include_colab_link": true,
      "provenance": [],
      "toc_visible": true
    },
    "kernelspec": {
      "display_name": "base",
      "language": "python",
      "name": "python3"
    },
    "language_info": {
      "codemirror_mode": {
        "name": "ipython",
        "version": 3
      },
      "file_extension": ".py",
      "mimetype": "text/x-python",
      "name": "python",
      "nbconvert_exporter": "python",
      "pygments_lexer": "ipython3",
      "version": "3.12.7"
    }
  },
  "nbformat": 4,
  "nbformat_minor": 0
}
