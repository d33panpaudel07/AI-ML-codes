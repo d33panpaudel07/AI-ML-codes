{
  "nbformat": 4,
  "nbformat_minor": 0,
  "metadata": {
    "colab": {
      "provenance": [],
      "authorship_tag": "ABX9TyN/XxgFkf/R3snkjC1x6+5L",
      "include_colab_link": true
    },
    "kernelspec": {
      "name": "python3",
      "display_name": "Python 3"
    },
    "language_info": {
      "name": "python"
    }
  },
  "cells": [
    {
      "cell_type": "markdown",
      "metadata": {
        "id": "view-in-github",
        "colab_type": "text"
      },
      "source": [
        "<a href=\"https://colab.research.google.com/github/sulav063/Machine_Learning_Workshop/blob/main/Day_9.ipynb\" target=\"_parent\"><img src=\"https://colab.research.google.com/assets/colab-badge.svg\" alt=\"Open In Colab\"/></a>"
      ]
    },
    {
      "cell_type": "code",
      "execution_count": null,
      "metadata": {
        "id": "x3yyWttwViqB"
      },
      "outputs": [],
      "source": [
        "import matplotlib.pyplot as plt\n",
        "import numpy as np\n",
        "import pandas as pd\n",
        "import math"
      ]
    },
    {
      "cell_type": "code",
      "source": [
        "x1 = [1, 2, 3]\n",
        "x2 = [4, 5, 6]\n",
        "plt.scatter(x1,x2)"
      ],
      "metadata": {
        "colab": {
          "base_uri": "https://localhost:8080/",
          "height": 447
        },
        "id": "ZZ3MbEh9VtQX",
        "outputId": "0d47ec14-d39e-4ce7-de91-cc76fedb7f3a"
      },
      "execution_count": null,
      "outputs": [
        {
          "output_type": "execute_result",
          "data": {
            "text/plain": [
              "<matplotlib.collections.PathCollection at 0x7c01641bca90>"
            ]
          },
          "metadata": {},
          "execution_count": 11
        },
        {
          "output_type": "display_data",
          "data": {
            "text/plain": [
              "<Figure size 640x480 with 1 Axes>"
            ],
            "image/png": "[encoded data removed]"
          },
          "metadata": {}
        }
      ]
    },
    {
      "cell_type": "code",
      "source": [
        "a=[1,2,3]\n",
        "b=[4,5,6]\n",
        "c=b[0]-a[0]\n",
        "d=b[1]-a[1]\n",
        "e=b[2]-a[2]\n",
        "f=c*c\n",
        "g=d*d\n",
        "h=e*e\n",
        "print(math.sqrt(f+g+h))\n"
      ],
      "metadata": {
        "colab": {
          "base_uri": "https://localhost:8080/"
        },
        "id": "6B2K9bWCWP91",
        "outputId": "3f12df9b-7e70-4621-9be6-ec46836d3a92"
      },
      "execution_count": null,
      "outputs": [
        {
          "output_type": "stream",
          "name": "stdout",
          "text": [
            "5.196152422706632\n"
          ]
        }
      ]
    },
    {
      "cell_type": "code",
      "source": [
        "a = np.array((1, 2, 3))\n",
        "b = np.array((4, 5,6))\n",
        "dist = np.linalg.norm(a-b)\n",
        "print(dist)"
      ],
      "metadata": {
        "colab": {
          "base_uri": "https://localhost:8080/"
        },
        "id": "pbRQDUtjXrMl",
        "outputId": "cbded676-d3ed-4a14-826a-d5262f209ca6"
      },
      "execution_count": null,
      "outputs": [
        {
          "output_type": "stream",
          "name": "stdout",
          "text": [
            "5.196152422706632\n"
          ]
        }
      ]
    },
    {
      "cell_type": "code",
      "source": [
        "a =[[1,2,3],[4,5,6],[7,8,9]]\n",
        "b=[[11,12,13],[14,15,16],[17,18,19]]\n",
        "multi= np.dot(a,b)\n",
        "multi"
      ],
      "metadata": {
        "colab": {
          "base_uri": "https://localhost:8080/"
        },
        "id": "62nuAFUTYXjy",
        "outputId": "482c8373-5fc0-49a4-93b9-2166ae8e2f74"
      },
      "execution_count": null,
      "outputs": [
        {
          "output_type": "execute_result",
          "data": {
            "text/plain": [
              "array([[ 90,  96, 102],\n",
              "       [216, 231, 246],\n",
              "       [342, 366, 390]])"
            ]
          },
          "metadata": {},
          "execution_count": 16
        }
      ]
    },
    {
      "cell_type": "code",
      "source": [
        "a = np.array([[1, 2, 3], [4, 5, 6], [7, 8, 9]])\n",
        "b = np.array([[11, 12, 13], [14, 15, 16], [17, 18, 19]])\n",
        "\n",
        "# Initialize the result matrix 'm'\n",
        "m = np.zeros((3, 3))\n",
        "\n",
        "# Manual matrix multiplication\n",
        "for i in range(len(a)):\n",
        "    for j in range(len(b[0])):\n",
        "        m[i][j] = sum(a[i][k] * b[k][j] for k in range(len(b)))\n",
        "\n",
        "print(m)\n"
      ],
      "metadata": {
        "colab": {
          "base_uri": "https://localhost:8080/"
        },
        "id": "AssPtGOZZv9N",
        "outputId": "123cfbe0-4106-40ba-9b69-53800ece02ad"
      },
      "execution_count": null,
      "outputs": [
        {
          "output_type": "stream",
          "name": "stdout",
          "text": [
            "[[ 90.  96. 102.]\n",
            " [216. 231. 246.]\n",
            " [342. 366. 390.]]\n"
          ]
        }
      ]
    },
    {
      "cell_type": "code",
      "source": [],
      "metadata": {
        "id": "1nrt5iReb5lY"
      },
      "execution_count": null,
      "outputs": []
    }
  ]
}