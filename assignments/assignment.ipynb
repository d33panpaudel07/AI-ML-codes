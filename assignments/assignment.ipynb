{
 "cells": [
  {
   "cell_type": "markdown",
   "metadata": {},
   "source": [
    "#1.Reading in Files"
   ]
  },
  {
   "cell_type": "markdown",
   "metadata": {},
   "source": [
    "##Read .csv files using pandas (countries of the world.csv)"
   ]
  },
  {
   "cell_type": "code",
   "execution_count": 3,
   "metadata": {},
   "outputs": [
    {
     "name": "stdout",
     "output_type": "stream",
     "text": [
      "             Country                               Region\n",
      "0       Afghanistan         ASIA (EX. NEAR EAST)         \n",
      "1           Albania   EASTERN EUROPE                     \n",
      "2           Algeria   NORTHERN AFRICA                    \n",
      "3    American Samoa   OCEANIA                            \n",
      "4           Andorra   WESTERN EUROPE                     \n",
      "..               ...                                  ...\n",
      "222       West Bank   NEAR EAST                          \n",
      "223  Western Sahara   NORTHERN AFRICA                    \n",
      "224           Yemen   NEAR EAST                          \n",
      "225          Zambia   SUB-SAHARAN AFRICA                 \n",
      "226        Zimbabwe   SUB-SAHARAN AFRICA                 \n",
      "\n",
      "[227 rows x 2 columns]\n"
     ]
    }
   ],
   "source": [
    "import pandas as pd\n",
    "df = pd.read_csv('https://raw.githubusercontent.com/reban87/ML-From-Scratch/refs/heads/main/01%20Introduction_to_ML/data_cleaning/countries%20of%20the%20world.csv')\n",
    "print(df)"
   ]
  },
  {
   "cell_type": "markdown",
   "metadata": {},
   "source": [
    "##Read .txt files using read_csv and read_table(countries of the world)"
   ]
  },
  {
   "cell_type": "code",
   "execution_count": 4,
   "metadata": {},
   "outputs": [
    {
     "name": "stdout",
     "output_type": "stream",
     "text": [
      "             Country                               Region\n",
      "0       Afghanistan         ASIA (EX. NEAR EAST)         \n",
      "1           Albania   EASTERN EUROPE                     \n",
      "2           Algeria   NORTHERN AFRICA                    \n",
      "3    American Samoa   OCEANIA                            \n",
      "4           Andorra   WESTERN EUROPE                     \n",
      "..               ...                                  ...\n",
      "222       West Bank   NEAR EAST                          \n",
      "223  Western Sahara   NORTHERN AFRICA                    \n",
      "224           Yemen   NEAR EAST                          \n",
      "225          Zambia   SUB-SAHARAN AFRICA                 \n",
      "226        Zimbabwe   SUB-SAHARAN AFRICA                 \n",
      "\n",
      "[227 rows x 2 columns]\n"
     ]
    }
   ],
   "source": [
    "table_df = pd.read_table('https://raw.githubusercontent.com/reban87/ML-From-Scratch/refs/heads/main/01%20Introduction_to_ML/data_cleaning/countries%20of%20the%20world.txt')\n",
    "print(table_df)"
   ]
  },
  {
   "cell_type": "markdown",
   "metadata": {},
   "source": [
    "##Read json files json_sample.json"
   ]
  },
  {
   "cell_type": "code",
   "execution_count": 5,
   "metadata": {},
   "outputs": [
    {
     "name": "stdout",
     "output_type": "stream",
     "text": [
      "                                           12 Strong  \\\n",
      "0  {'Genre': 'Action', 'Gross': '$453,173', 'IMDB...   \n",
      "\n",
      "            A Fantastic Woman (Una Mujer Fantástica)  \\\n",
      "0  {'popcornscore': 83, 'rating': 'R', 'tomatosco...   \n",
      "\n",
      "                          All The Money In The World  \\\n",
      "0  {'popcornscore': 71, 'rating': 'R', 'tomatosco...   \n",
      "\n",
      "                          Bilal: A New Breed Of Hero  \\\n",
      "0  {'popcornscore': 91, 'rating': 'PG13', 'tomato...   \n",
      "\n",
      "                                Call Me By Your Name  \\\n",
      "0  {'popcornscore': 87, 'rating': 'R', 'tomatosco...   \n",
      "\n",
      "                                        Darkest Hour  \\\n",
      "0  {'popcornscore': 84, 'rating': 'PG13', 'tomato...   \n",
      "\n",
      "                                      Den Of Thieves  \\\n",
      "0  {'Genre': 'Action', 'Gross': '$491,898', 'IMDB...   \n",
      "\n",
      "                                           Ferdinand  \\\n",
      "0  {'popcornscore': 49, 'rating': 'PG', 'tomatosc...   \n",
      "\n",
      "                                  Fifty Shades Freed  \\\n",
      "0  {'Genre': 'Drama', 'Gross': 'unknown', 'IMDB M...   \n",
      "\n",
      "                   Film Stars Don'T Die In Liverpool  ...  \\\n",
      "0  {'popcornscore': 69, 'rating': 'R', 'tomatosco...  ...   \n",
      "\n",
      "                                  The 15:17 To Paris  \\\n",
      "0  {'Genre': 'Drama', 'Gross': 'unknown', 'IMDB M...   \n",
      "\n",
      "                                        The Commuter  \\\n",
      "0  {'popcornscore': 48, 'rating': 'PG13', 'tomato...   \n",
      "\n",
      "                                 The Disaster Artist  \\\n",
      "0  {'popcornscore': 89, 'rating': 'R', 'tomatosco...   \n",
      "\n",
      "                                The Greatest Showman  \\\n",
      "0  {'Genre': 'Biography', 'Gross': '$627,248', 'I...   \n",
      "\n",
      "                              The Insult (L'Insulte)  \\\n",
      "0  {'popcornscore': 86, 'rating': 'R', 'tomatosco...   \n",
      "\n",
      "                                            The Post  \\\n",
      "0  {'Genre': 'Biography', 'Gross': '$463,228', 'I...   \n",
      "\n",
      "                                  The Shape Of Water  \\\n",
      "0  {'Genre': 'Adventure', 'Gross': '$448,287', 'I...   \n",
      "\n",
      "           Three Billboards Outside Ebbing, Missouri  \\\n",
      "0  {'popcornscore': 87, 'rating': 'R', 'tomatosco...   \n",
      "\n",
      "                           Till The End Of The World  \\\n",
      "0  {'popcornscore': -1, 'rating': 'NR', 'tomatosc...   \n",
      "\n",
      "                                          Winchester  \n",
      "0  {'Genre': 'Biography', 'Gross': '$696,786', 'I...  \n",
      "\n",
      "[1 rows x 38 columns]\n"
     ]
    }
   ],
   "source": [
    "json_df = pd.read_json('https://raw.githubusercontent.com/reban87/ML-From-Scratch/refs/heads/main/01%20Introduction_to_ML/data_cleaning/json_sample.json')\n",
    "print(json_df)"
   ]
  },
  {
   "cell_type": "markdown",
   "metadata": {},
   "source": [
    "##Read excel file "
   ]
  },
  {
   "cell_type": "code",
   "execution_count": 6,
   "metadata": {},
   "outputs": [
    {
     "name": "stdout",
     "output_type": "stream",
     "text": [
      "     Rank CCA3            Country           Capital Continent  \\\n",
      "0      36  AFG        Afghanistan             Kabul      Asia   \n",
      "1     138  ALB            Albania            Tirana    Europe   \n",
      "2      34  DZA            Algeria           Algiers    Africa   \n",
      "3     213  ASM     American Samoa         Pago Pago   Oceania   \n",
      "4     203  AND            Andorra  Andorra la Vella    Europe   \n",
      "..    ...  ...                ...               ...       ...   \n",
      "229   226  WLF  Wallis and Futuna          Mata-Utu   Oceania   \n",
      "230   172  ESH     Western Sahara         El AaiÃºn    Africa   \n",
      "231    46  YEM              Yemen             Sanaa      Asia   \n",
      "232    63  ZMB             Zambia            Lusaka    Africa   \n",
      "233    74  ZWE           Zimbabwe            Harare    Africa   \n",
      "\n",
      "     2022 Population  2020 Population  2015 Population  2010 Population  \\\n",
      "0           41128771         38972230         33753499         28189672   \n",
      "1            2842321          2866849          2882481          2913399   \n",
      "2           44903225         43451666         39543154         35856344   \n",
      "3              44273            46189            51368            54849   \n",
      "4              79824            77700            71746            71519   \n",
      "..               ...              ...              ...              ...   \n",
      "229            11572            11655            12182            13142   \n",
      "230           575986           556048           491824           413296   \n",
      "231         33696614         32284046         28516545         24743946   \n",
      "232         20017675         18927715         16248230         13792086   \n",
      "233         16320537         15669666         14154937         12839771   \n",
      "\n",
      "     2000 Population  1990 Population  1980 Population  1970 Population  \\\n",
      "0           19542982         10694796         12486631         10752971   \n",
      "1            3182021          3295066          2941651          2324731   \n",
      "2           30774621         25518074         18739378         13795915   \n",
      "3              58230            47818            32886            27075   \n",
      "4              66097            53569            35611            19860   \n",
      "..               ...              ...              ...              ...   \n",
      "229            14723            13454            11315             9377   \n",
      "230           270375           178529           116775            76371   \n",
      "231         18628700         13375121          9204938          6843607   \n",
      "232          9891136          7686401          5720438          4281671   \n",
      "233         11834676         10113893          7049926          5202918   \n",
      "\n",
      "     Area (kmÂ²)  Density (per kmÂ²)  Growth Rate  World Population Percentage  \n",
      "0         652230             63.0587       1.0257                         0.52  \n",
      "1          28748             98.8702       0.9957                         0.04  \n",
      "2        2381741             18.8531       1.0164                         0.56  \n",
      "3            199            222.4774       0.9831                         0.00  \n",
      "4            468            170.5641       1.0100                         0.00  \n",
      "..           ...                 ...          ...                          ...  \n",
      "229          142             81.4930       0.9953                         0.00  \n",
      "230       266000              2.1654       1.0184                         0.01  \n",
      "231       527968             63.8232       1.0217                         0.42  \n",
      "232       752612             26.5976       1.0280                         0.25  \n",
      "233       390757             41.7665       1.0204                         0.20  \n",
      "\n",
      "[234 rows x 17 columns]\n"
     ]
    }
   ],
   "source": [
    "excel_df = pd.read_excel('./world_population_excel_workbook.xlsx')\n",
    "print(excel_df)"
   ]
  },
  {
   "cell_type": "markdown",
   "metadata": {},
   "source": [
    "#Filtering and Ordering in Pandas"
   ]
  },
  {
   "cell_type": "markdown",
   "metadata": {},
   "source": [
    "\n",
    "##Read csv file world_population.csv"
   ]
  },
  {
   "cell_type": "code",
   "execution_count": 7,
   "metadata": {},
   "outputs": [
    {
     "name": "stdout",
     "output_type": "stream",
     "text": [
      "     Rank CCA3            Country           Capital Continent  \\\n",
      "0      36  AFG        Afghanistan             Kabul      Asia   \n",
      "1     138  ALB            Albania            Tirana    Europe   \n",
      "2      34  DZA            Algeria           Algiers    Africa   \n",
      "3     213  ASM     American Samoa         Pago Pago   Oceania   \n",
      "4     203  AND            Andorra  Andorra la Vella    Europe   \n",
      "..    ...  ...                ...               ...       ...   \n",
      "229   226  WLF  Wallis and Futuna          Mata-Utu   Oceania   \n",
      "230   172  ESH     Western Sahara          El Aaiún    Africa   \n",
      "231    46  YEM              Yemen             Sanaa      Asia   \n",
      "232    63  ZMB             Zambia            Lusaka    Africa   \n",
      "233    74  ZWE           Zimbabwe            Harare    Africa   \n",
      "\n",
      "     2022 Population  2020 Population  2015 Population  2010 Population  \\\n",
      "0         41128771.0       38972230.0       33753499.0       28189672.0   \n",
      "1          2842321.0        2866849.0        2882481.0        2913399.0   \n",
      "2         44903225.0       43451666.0       39543154.0       35856344.0   \n",
      "3            44273.0          46189.0          51368.0          54849.0   \n",
      "4            79824.0          77700.0          71746.0          71519.0   \n",
      "..               ...              ...              ...              ...   \n",
      "229          11572.0          11655.0          12182.0          13142.0   \n",
      "230         575986.0         556048.0         491824.0         413296.0   \n",
      "231       33696614.0       32284046.0       28516545.0       24743946.0   \n",
      "232       20017675.0       18927715.0              NaN       13792086.0   \n",
      "233       16320537.0       15669666.0       14154937.0       12839771.0   \n",
      "\n",
      "     2000 Population  1990 Population  1980 Population  1970 Population  \\\n",
      "0         19542982.0       10694796.0       12486631.0       10752971.0   \n",
      "1          3182021.0        3295066.0        2941651.0        2324731.0   \n",
      "2         30774621.0       25518074.0       18739378.0       13795915.0   \n",
      "3            58230.0          47818.0          32886.0          27075.0   \n",
      "4            66097.0          53569.0          35611.0          19860.0   \n",
      "..               ...              ...              ...              ...   \n",
      "229          14723.0          13454.0          11315.0           9377.0   \n",
      "230         270375.0         178529.0         116775.0          76371.0   \n",
      "231       18628700.0       13375121.0        9204938.0        6843607.0   \n",
      "232        9891136.0        7686401.0        5720438.0        4281671.0   \n",
      "233       11834676.0       10113893.0        7049926.0        5202918.0   \n",
      "\n",
      "     Area (km²)  Density (per km²)  Growth Rate  World Population Percentage  \n",
      "0      652230.0            63.0587       1.0257                         0.52  \n",
      "1       28748.0            98.8702       0.9957                         0.04  \n",
      "2     2381741.0            18.8531       1.0164                         0.56  \n",
      "3         199.0           222.4774       0.9831                         0.00  \n",
      "4         468.0           170.5641       1.0100                         0.00  \n",
      "..          ...                ...          ...                          ...  \n",
      "229       142.0            81.4930       0.9953                         0.00  \n",
      "230    266000.0             2.1654       1.0184                         0.01  \n",
      "231    527968.0            63.8232       1.0217                         0.42  \n",
      "232    752612.0            26.5976       1.0280                         0.25  \n",
      "233    390757.0            41.7665       1.0204                         0.20  \n",
      "\n",
      "[234 rows x 17 columns]\n"
     ]
    }
   ],
   "source": [
    "world_df = pd.read_csv('https://raw.githubusercontent.com/reban87/ML-From-Scratch/refs/heads/main/01%20Introduction_to_ML/data_cleaning/world_population.csv')\n",
    "print(world_df)"
   ]
  },
  {
   "cell_type": "markdown",
   "metadata": {},
   "source": [
    "##Display the list of countries having a rank<= 10"
   ]
  },
  {
   "cell_type": "code",
   "execution_count": 14,
   "metadata": {},
   "outputs": [
    {
     "name": "stdout",
     "output_type": "stream",
     "text": [
      "     Rank CCA3        Country           Capital      Continent  \\\n",
      "16      8  BGD     Bangladesh             Dhaka           Asia   \n",
      "27      7  BRA         Brazil          Brasilia  South America   \n",
      "41      1  CHN          China           Beijing           Asia   \n",
      "92      2  IND          India         New Delhi           Asia   \n",
      "93      4  IDN      Indonesia           Jakarta           Asia   \n",
      "131    10  MEX         Mexico       Mexico City  North America   \n",
      "149     6  NGA        Nigeria             Abuja         Africa   \n",
      "156     5  PAK       Pakistan         Islamabad           Asia   \n",
      "171     9  RUS         Russia            Moscow         Europe   \n",
      "221     3  USA  United States  Washington, D.C.  North America   \n",
      "\n",
      "     2022 Population  2020 Population  2015 Population  2010 Population  \\\n",
      "16      1.711864e+08     1.674210e+08     1.578300e+08     1.483911e+08   \n",
      "27      2.153135e+08     2.131963e+08     2.051882e+08     1.963535e+08   \n",
      "41      1.425887e+09     1.424930e+09     1.393715e+09     1.348191e+09   \n",
      "92      1.417173e+09     1.396387e+09     1.322867e+09     1.240614e+09   \n",
      "93      2.755013e+08     2.718580e+08     2.590920e+08     2.440162e+08   \n",
      "131     1.275041e+08     1.259983e+08     1.201499e+08     1.125324e+08   \n",
      "149     2.185412e+08     2.083274e+08     1.839958e+08     1.609529e+08   \n",
      "156     2.358249e+08     2.271967e+08     2.109693e+08     1.944545e+08   \n",
      "171     1.447133e+08     1.456173e+08     1.446684e+08     1.432426e+08   \n",
      "221     3.382899e+08     3.359420e+08     3.246078e+08     3.111828e+08   \n",
      "\n",
      "     2000 Population  1990 Population  1980 Population  1970 Population  \\\n",
      "16      1.291933e+08     1.071477e+08       83929765.0       67541860.0   \n",
      "27      1.758737e+08     1.507064e+08      122288383.0       96369875.0   \n",
      "41      1.264099e+09     1.153704e+09      982372466.0      822534450.0   \n",
      "92      1.059634e+09              NaN              NaN      557501301.0   \n",
      "93      2.140724e+08     1.821599e+08      148177096.0      115228394.0   \n",
      "131     9.787344e+07     8.172043e+07       67705186.0       50289306.0   \n",
      "149     1.228520e+08     9.521426e+07       72951439.0       55569264.0   \n",
      "156     1.543699e+08     1.154141e+08       80624057.0       59290872.0   \n",
      "171     1.468448e+08     1.480057e+08      138257420.0      130093010.0   \n",
      "221     2.823986e+08     2.480837e+08      223140018.0      200328340.0   \n",
      "\n",
      "     Area (km²)  Density (per km²)  Growth Rate  World Population Percentage  \n",
      "16     147570.0          1160.0350       1.0108                         2.15  \n",
      "27    8515767.0            25.2841       1.0046                         2.70  \n",
      "41    9706961.0           146.8933       1.0000                        17.88  \n",
      "92    3287590.0           431.0675       1.0068                        17.77  \n",
      "93    1904569.0           144.6529       1.0064                         3.45  \n",
      "131   1964375.0            64.9082       1.0063                         1.60  \n",
      "149    923768.0           236.5759       1.0241                         2.74  \n",
      "156    881912.0           267.4018       1.0191                         2.96  \n",
      "171  17098242.0             8.4636       0.9973                         1.81  \n",
      "221   9372610.0            36.0935       1.0038                         4.24  \n"
     ]
    }
   ],
   "source": [
    "df_rank = world_df[world_df['Rank'] <= 10]\n",
    "print(df_rank)"
   ]
  },
  {
   "cell_type": "markdown",
   "metadata": {},
   "source": [
    "##Create a list of specific country ['Bangladesh', 'Brazil'] and return df which falls under the specific list only"
   ]
  },
  {
   "cell_type": "code",
   "execution_count": 28,
   "metadata": {},
   "outputs": [
    {
     "name": "stdout",
     "output_type": "stream",
     "text": [
      "16    Bangladesh\n",
      "27        Brazil\n",
      "Name: Country, dtype: object\n"
     ]
    }
   ],
   "source": [
    "# required_countries = ['Bangladesh', 'Brazil']\n",
    "# df_specific = world_df[world_df['Country'].isin(required_countries)]\n",
    "df_specific = world_df[world_df['Country'].isin(['Bangladesh', 'Brazil'])]\n",
    "print(df_specific['Country'])"
   ]
  },
  {
   "cell_type": "markdown",
   "metadata": {},
   "source": [
    "##Apply filter to the Country which has United in its name"
   ]
  },
  {
   "cell_type": "code",
   "execution_count": null,
   "metadata": {},
   "outputs": [
    {
     "name": "stdout",
     "output_type": "stream",
     "text": [
      "     Rank CCA3                       Country           Capital      Continent  \\\n",
      "219    97  ARE          United Arab Emirates         Abu Dhabi           Asia   \n",
      "220    21  GBR                United Kingdom            London         Europe   \n",
      "221     3  USA                 United States  Washington, D.C.  North America   \n",
      "222   200  VIR  United States Virgin Islands  Charlotte Amalie  North America   \n",
      "\n",
      "     2022 Population  2020 Population  2015 Population  2010 Population  \\\n",
      "219        9441129.0        9287289.0        8916899.0        8481771.0   \n",
      "220       67508936.0       67059474.0       65224364.0       62760039.0   \n",
      "221      338289857.0      335942003.0      324607776.0      311182845.0   \n",
      "222          99465.0         100442.0         102803.0         106142.0   \n",
      "\n",
      "     2000 Population  1990 Population  1980 Population  1970 Population  \\\n",
      "219        3275333.0        1900151.0        1014048.0         298084.0   \n",
      "220       58850043.0       57210442.0       56326328.0       55650166.0   \n",
      "221      282398554.0      248083732.0      223140018.0      200328340.0   \n",
      "222         108185.0         100685.0          96640.0          63446.0   \n",
      "\n",
      "     Area (km²)  Density (per km²)  Growth Rate  World Population Percentage  \n",
      "219     83600.0           112.9322       1.0081                         0.12  \n",
      "220    242900.0           277.9289       1.0034                         0.85  \n",
      "221   9372610.0            36.0935       1.0038                         4.24  \n",
      "222       347.0           286.6427       0.9937                         0.00  \n"
     ]
    }
   ],
   "source": [
    "united_df = world_df[world_df['Country'].str.contains(\"United\")]\n",
    "print(united_df)\n"
   ]
  },
  {
   "cell_type": "markdown",
   "metadata": {},
   "source": [
    "##Create a dataframe df2 and give Country as its index"
   ]
  },
  {
   "cell_type": "code",
   "execution_count": null,
   "metadata": {},
   "outputs": [
    {
     "name": "stdout",
     "output_type": "stream",
     "text": [
      "                   Rank CCA3           Capital Continent  2022 Population  \\\n",
      "Country                                                                     \n",
      "Afghanistan          36  AFG             Kabul      Asia       41128771.0   \n",
      "Albania             138  ALB            Tirana    Europe        2842321.0   \n",
      "Algeria              34  DZA           Algiers    Africa       44903225.0   \n",
      "American Samoa      213  ASM         Pago Pago   Oceania          44273.0   \n",
      "Andorra             203  AND  Andorra la Vella    Europe          79824.0   \n",
      "...                 ...  ...               ...       ...              ...   \n",
      "Wallis and Futuna   226  WLF          Mata-Utu   Oceania          11572.0   \n",
      "Western Sahara      172  ESH          El Aaiún    Africa         575986.0   \n",
      "Yemen                46  YEM             Sanaa      Asia       33696614.0   \n",
      "Zambia               63  ZMB            Lusaka    Africa       20017675.0   \n",
      "Zimbabwe             74  ZWE            Harare    Africa       16320537.0   \n",
      "\n",
      "                   2020 Population  2015 Population  2010 Population  \\\n",
      "Country                                                                \n",
      "Afghanistan             38972230.0       33753499.0       28189672.0   \n",
      "Albania                  2866849.0        2882481.0        2913399.0   \n",
      "Algeria                 43451666.0       39543154.0       35856344.0   \n",
      "American Samoa             46189.0          51368.0          54849.0   \n",
      "Andorra                    77700.0          71746.0          71519.0   \n",
      "...                            ...              ...              ...   \n",
      "Wallis and Futuna          11655.0          12182.0          13142.0   \n",
      "Western Sahara            556048.0         491824.0         413296.0   \n",
      "Yemen                   32284046.0       28516545.0       24743946.0   \n",
      "Zambia                  18927715.0              NaN       13792086.0   \n",
      "Zimbabwe                15669666.0       14154937.0       12839771.0   \n",
      "\n",
      "                   2000 Population  1990 Population  1980 Population  \\\n",
      "Country                                                                \n",
      "Afghanistan             19542982.0       10694796.0       12486631.0   \n",
      "Albania                  3182021.0        3295066.0        2941651.0   \n",
      "Algeria                 30774621.0       25518074.0       18739378.0   \n",
      "American Samoa             58230.0          47818.0          32886.0   \n",
      "Andorra                    66097.0          53569.0          35611.0   \n",
      "...                            ...              ...              ...   \n",
      "Wallis and Futuna          14723.0          13454.0          11315.0   \n",
      "Western Sahara            270375.0         178529.0         116775.0   \n",
      "Yemen                   18628700.0       13375121.0        9204938.0   \n",
      "Zambia                   9891136.0        7686401.0        5720438.0   \n",
      "Zimbabwe                11834676.0       10113893.0        7049926.0   \n",
      "\n",
      "                   1970 Population  Area (km²)  Density (per km²)  \\\n",
      "Country                                                             \n",
      "Afghanistan             10752971.0    652230.0            63.0587   \n",
      "Albania                  2324731.0     28748.0            98.8702   \n",
      "Algeria                 13795915.0   2381741.0            18.8531   \n",
      "American Samoa             27075.0       199.0           222.4774   \n",
      "Andorra                    19860.0       468.0           170.5641   \n",
      "...                            ...         ...                ...   \n",
      "Wallis and Futuna           9377.0       142.0            81.4930   \n",
      "Western Sahara             76371.0    266000.0             2.1654   \n",
      "Yemen                    6843607.0    527968.0            63.8232   \n",
      "Zambia                   4281671.0    752612.0            26.5976   \n",
      "Zimbabwe                 5202918.0    390757.0            41.7665   \n",
      "\n",
      "                   Growth Rate  World Population Percentage  \n",
      "Country                                                      \n",
      "Afghanistan             1.0257                         0.52  \n",
      "Albania                 0.9957                         0.04  \n",
      "Algeria                 1.0164                         0.56  \n",
      "American Samoa          0.9831                         0.00  \n",
      "Andorra                 1.0100                         0.00  \n",
      "...                        ...                          ...  \n",
      "Wallis and Futuna       0.9953                         0.00  \n",
      "Western Sahara          1.0184                         0.01  \n",
      "Yemen                   1.0217                         0.42  \n",
      "Zambia                  1.0280                         0.25  \n",
      "Zimbabwe                1.0204                         0.20  \n",
      "\n",
      "[234 rows x 16 columns]\n"
     ]
    }
   ],
   "source": [
    "df2 = world_df.set_index('Country')\n",
    "print(df2)"
   ]
  },
  {
   "cell_type": "markdown",
   "metadata": {},
   "source": [
    "##Apply filter Continent and CCA3 in df2 (need only two columns)"
   ]
  },
  {
   "cell_type": "code",
   "execution_count": null,
   "metadata": {},
   "outputs": [
    {
     "name": "stdout",
     "output_type": "stream",
     "text": [
      "                  Continent CCA3\n",
      "Country                         \n",
      "Afghanistan            Asia  AFG\n",
      "Albania              Europe  ALB\n",
      "Algeria              Africa  DZA\n",
      "American Samoa      Oceania  ASM\n",
      "Andorra              Europe  AND\n",
      "...                     ...  ...\n",
      "Wallis and Futuna   Oceania  WLF\n",
      "Western Sahara       Africa  ESH\n",
      "Yemen                  Asia  YEM\n",
      "Zambia               Africa  ZMB\n",
      "Zimbabwe             Africa  ZWE\n",
      "\n",
      "[234 rows x 2 columns]\n"
     ]
    }
   ],
   "source": [
    "filtered_df = df2[['Continent','CCA3']]\n",
    "print(filtered_df)"
   ]
  },
  {
   "cell_type": "markdown",
   "metadata": {},
   "source": [
    "##Apply filter to see details of Zimbabwe entire row"
   ]
  },
  {
   "cell_type": "code",
   "execution_count": null,
   "metadata": {},
   "outputs": [
    {
     "name": "stdout",
     "output_type": "stream",
     "text": [
      "     Rank CCA3   Country Capital Continent  2022 Population  2020 Population  \\\n",
      "233    74  ZWE  Zimbabwe  Harare    Africa       16320537.0       15669666.0   \n",
      "\n",
      "     2015 Population  2010 Population  2000 Population  1990 Population  \\\n",
      "233       14154937.0       12839771.0       11834676.0       10113893.0   \n",
      "\n",
      "     1980 Population  1970 Population  Area (km²)  Density (per km²)  \\\n",
      "233        7049926.0        5202918.0    390757.0            41.7665   \n",
      "\n",
      "     Growth Rate  World Population Percentage  \n",
      "233       1.0204                          0.2  \n"
     ]
    }
   ],
   "source": [
    "zim_df = world_df[world_df['Country'] == 'Zimbabwe']\n",
    "print(zim_df)"
   ]
  },
  {
   "cell_type": "markdown",
   "metadata": {},
   "source": [
    "## Ascending and Descending"
   ]
  },
  {
   "cell_type": "code",
   "execution_count": null,
   "metadata": {},
   "outputs": [],
   "source": [
    "df_filtered = world_df[world_df['Rank'] < 10]\n",
    "\n",
    "df_sorted = df_filtered.sort_values(by=['Continent', 'Country'], ascending=[False, True])"
   ]
  },
  {
   "cell_type": "markdown",
   "metadata": {},
   "source": [
    "##BONUS QUESTION\n",
    "    "
   ]
  },
  {
   "cell_type": "code",
   "execution_count": null,
   "metadata": {},
   "outputs": [
    {
     "name": "stdout",
     "output_type": "stream",
     "text": [
      "               Rank CCA3       Country      Capital  2022 Population  \\\n",
      "Continent                                                              \n",
      "Africa           34  DZA       Algeria      Algiers       44903225.0   \n",
      "Africa           42  AGO        Angola       Luanda       35588987.0   \n",
      "Africa           77  BEN         Benin   Porto-Novo       13352864.0   \n",
      "Africa          144  BWA      Botswana     Gaborone        2630296.0   \n",
      "Africa           58  BFA  Burkina Faso  Ouagadougou       22673762.0   \n",
      "...             ...  ...           ...          ...              ...   \n",
      "South America   109  PRY      Paraguay     Asunción        6780744.0   \n",
      "South America    44  PER          Peru         Lima       34049588.0   \n",
      "South America   170  SUR      Suriname   Paramaribo         618040.0   \n",
      "South America   133  URY       Uruguay   Montevideo        3422794.0   \n",
      "South America    51  VEN     Venezuela      Caracas       28301696.0   \n",
      "\n",
      "               2020 Population  2015 Population  2010 Population  \\\n",
      "Continent                                                          \n",
      "Africa              43451666.0       39543154.0       35856344.0   \n",
      "Africa              33428485.0       28127721.0       23364185.0   \n",
      "Africa              12643123.0       10932783.0        9445710.0   \n",
      "Africa               2546402.0        2305171.0        2091664.0   \n",
      "Africa              21522626.0       18718019.0       16116845.0   \n",
      "...                        ...              ...              ...   \n",
      "South America        6618695.0        6177950.0        5768613.0   \n",
      "South America       33304756.0       30711863.0       29229572.0   \n",
      "South America         607065.0         575475.0         546080.0   \n",
      "South America        3429086.0        3402818.0        3352651.0   \n",
      "South America       28490453.0       30529716.0       28715022.0   \n",
      "\n",
      "               2000 Population  1990 Population  1980 Population  \\\n",
      "Continent                                                          \n",
      "Africa              30774621.0       25518074.0       18739378.0   \n",
      "Africa              16394062.0       11828638.0        8330047.0   \n",
      "Africa               6998023.0        5133419.0        3833939.0   \n",
      "Africa               1726985.0        1341474.0         938578.0   \n",
      "Africa              11882888.0        9131361.0        6932967.0   \n",
      "...                        ...              ...              ...   \n",
      "South America        5123819.0        4059195.0        3078912.0   \n",
      "South America       26654439.0       22109099.0       17492406.0   \n",
      "South America         478998.0         412756.0         375112.0   \n",
      "South America        3292224.0        3117012.0        2953750.0   \n",
      "South America              NaN       19750579.0       15210443.0   \n",
      "\n",
      "               1970 Population  Area (km²)  Density (per km²)  Growth Rate  \\\n",
      "Continent                                                                    \n",
      "Africa              13795915.0   2381741.0            18.8531       1.0164   \n",
      "Africa               6029700.0   1246700.0            28.5466       1.0315   \n",
      "Africa               3023443.0    112622.0           118.5635       1.0274   \n",
      "Africa                592244.0    582000.0             4.5194       1.0162   \n",
      "Africa               5611666.0    272967.0            83.0641       1.0259   \n",
      "...                        ...         ...                ...          ...   \n",
      "South America        2408787.0    406752.0            16.6705       1.0115   \n",
      "South America       13562371.0   1285216.0            26.4933       1.0099   \n",
      "South America         379918.0    163820.0             3.7727       1.0082   \n",
      "South America        2790265.0    181034.0            18.9069       0.9990   \n",
      "South America       11355475.0         NaN            30.8820       1.0036   \n",
      "\n",
      "               World Population Percentage  \n",
      "Continent                                   \n",
      "Africa                                0.56  \n",
      "Africa                                0.45  \n",
      "Africa                                0.17  \n",
      "Africa                                0.03  \n",
      "Africa                                0.28  \n",
      "...                                    ...  \n",
      "South America                         0.09  \n",
      "South America                         0.43  \n",
      "South America                         0.01  \n",
      "South America                         0.04  \n",
      "South America                         0.35  \n",
      "\n",
      "[234 rows x 16 columns]\n"
     ]
    }
   ],
   "source": [
    "df_sorted_index = world_df.sort_values(by =['Continent','Country'], ascending=[True, True])\n",
    "df_sorted_index = df_sorted_index.set_index('Continent')\n",
    "print(df_sorted_index)"
   ]
  }
 ],
 "metadata": {
  "kernelspec": {
   "display_name": "base",
   "language": "python",
   "name": "python3"
  },
  "language_info": {
   "codemirror_mode": {
    "name": "ipython",
    "version": 3
   },
   "file_extension": ".py",
   "mimetype": "text/x-python",
   "name": "python",
   "nbconvert_exporter": "python",
   "pygments_lexer": "ipython3",
   "version": "3.12.7"
  }
 },
 "nbformat": 4,
 "nbformat_minor": 2
}
