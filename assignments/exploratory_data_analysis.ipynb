{
 "cells": [
  {
   "cell_type": "code",
   "execution_count": null,
   "metadata": {},
   "outputs": [],
   "source": [
    "import numpy as np\n",
    "import pandas as pd\n",
    "import matplotlib.pyplot as plt\n",
    "import seaborn as sns\n",
    "\n",
    "ccdf = pd.read_excel('../data/cleaned_customer_call.xlsx')\n",
    "# print(ccdf)"
   ]
  },
  {
   "cell_type": "code",
   "execution_count": 20,
   "metadata": {},
   "outputs": [],
   "source": [
    "ccdf_cid = ccdf['CustomerID']\n",
    "# print(ccdf_cid)\n",
    "ccdf_first_name = ccdf['First_Name']\n",
    "ccdf_last_name = ccdf['Last_Name']\n",
    "ccdf_phone_number = ccdf['Phone_Number']\n",
    "ccdf_address = ccdf['Address']\n",
    "ccdf_paying_customer = ccdf['Paying_Customer']\n",
    "ccdf_do_not_disturb = ccdf['Do_Not_Contact']"
   ]
  },
  {
   "cell_type": "code",
   "execution_count": null,
   "metadata": {},
   "outputs": [],
   "source": []
  }
 ],
 "metadata": {
  "kernelspec": {
   "display_name": "base",
   "language": "python",
   "name": "python3"
  },
  "language_info": {
   "codemirror_mode": {
    "name": "ipython",
    "version": 3
   },
   "file_extension": ".py",
   "mimetype": "text/x-python",
   "name": "python",
   "nbconvert_exporter": "python",
   "pygments_lexer": "ipython3",
   "version": "3.12.7"
  }
 },
 "nbformat": 4,
 "nbformat_minor": 2
}
